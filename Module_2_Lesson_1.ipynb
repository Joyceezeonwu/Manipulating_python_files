{
 "cells": [
  {
   "cell_type": "code",
   "execution_count": 49,
   "id": "9eea5dc6",
   "metadata": {},
   "outputs": [],
   "source": [
    "# Importing libraries\n",
    "\n",
    "import os\n",
    "import csv\n",
    "import pandas as pd\n",
    "import shutil"
   ]
  },
  {
   "cell_type": "code",
   "execution_count": 50,
   "id": "0bb311f7",
   "metadata": {},
   "outputs": [
    {
     "data": {
      "text/plain": [
       "'C:\\\\Users\\\\JOYCE\\\\Desktop\\\\SGA_1.3\\\\Intermediate_Phase'"
      ]
     },
     "execution_count": 50,
     "metadata": {},
     "output_type": "execute_result"
    }
   ],
   "source": [
    "# Checking the current working directory\n",
    "\n",
    "os.getcwd()"
   ]
  },
  {
   "cell_type": "code",
   "execution_count": 56,
   "id": "47845c37",
   "metadata": {},
   "outputs": [],
   "source": [
    "# Creating a new folder named Project_1\n",
    "\n",
    "#os.mkdir('C:\\\\Users\\\\JOYCE\\\\Desktop\\\\SGA_1.3\\\\Intermediate_Phase\\\\Week_2_Lesson_1\\\\Project_1')"
   ]
  },
  {
   "cell_type": "code",
   "execution_count": 52,
   "id": "a6c0288a",
   "metadata": {},
   "outputs": [
    {
     "data": {
      "text/plain": [
       "'C:\\\\Users\\\\JOYCE\\\\Desktop\\\\SGA_1.3\\\\Intermediate_Phase'"
      ]
     },
     "execution_count": 52,
     "metadata": {},
     "output_type": "execute_result"
    }
   ],
   "source": [
    "# Checking the current working directory\n",
    "\n",
    "os.getcwd()"
   ]
  },
  {
   "cell_type": "code",
   "execution_count": 57,
   "id": "cf94e5bb",
   "metadata": {},
   "outputs": [
    {
     "data": {
      "text/plain": [
       "['IMDB_Dataset.csv']"
      ]
     },
     "execution_count": 57,
     "metadata": {},
     "output_type": "execute_result"
    }
   ],
   "source": [
    "os.listdir(\"C:\\\\Users\\\\JOYCE\\\\Desktop\\\\SGA_1.3\\\\Intermediate_Phase\\\\Week_2_Lesson_1\\\\Project_1\")"
   ]
  },
  {
   "cell_type": "code",
   "execution_count": null,
   "id": "c1847b09",
   "metadata": {},
   "outputs": [],
   "source": []
  }
 ],
 "metadata": {
  "kernelspec": {
   "display_name": "Python 3 (ipykernel)",
   "language": "python",
   "name": "python3"
  },
  "language_info": {
   "codemirror_mode": {
    "name": "ipython",
    "version": 3
   },
   "file_extension": ".py",
   "mimetype": "text/x-python",
   "name": "python",
   "nbconvert_exporter": "python",
   "pygments_lexer": "ipython3",
   "version": "3.9.12"
  }
 },
 "nbformat": 4,
 "nbformat_minor": 5
}
